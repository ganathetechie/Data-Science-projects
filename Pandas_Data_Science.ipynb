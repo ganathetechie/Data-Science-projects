{
  "nbformat": 4,
  "nbformat_minor": 0,
  "metadata": {
    "kernelspec": {
      "display_name": "Python 3",
      "language": "python",
      "name": "python3"
    },
    "language_info": {
      "codemirror_mode": {
        "name": "ipython",
        "version": 3
      },
      "file_extension": ".py",
      "mimetype": "text/x-python",
      "name": "python",
      "nbconvert_exporter": "python",
      "pygments_lexer": "ipython3",
      "version": "3.6.5"
    },
    "colab": {
      "name": "Pandas Data Science Tutorial.ipynb",
      "provenance": [],
      "include_colab_link": true
    }
  },
  "cells": [
    {
      "cell_type": "markdown",
      "metadata": {
        "id": "view-in-github",
        "colab_type": "text"
      },
      "source": [
        "<a href=\"https://colab.research.google.com/github/ganathetechie/Data-Science-projects/blob/main/Pandas_Data_Science.ipynb\" target=\"_parent\"><img src=\"https://colab.research.google.com/assets/colab-badge.svg\" alt=\"Open In Colab\"/></a>"
      ]
    },
    {
      "cell_type": "markdown",
      "metadata": {
        "id": "Mb3wZT1LI3ZX"
      },
      "source": [
        "## Loading data into Pandas"
      ]
    },
    {
      "cell_type": "code",
      "metadata": {
        "id": "Zf7UpdbZI3Zb"
      },
      "source": [
        "import pandas as pd\n",
        "\n",
        "df = pd.read_csv('pokemon_data.csv')\n",
        "\n",
        "# print(df.head(5))\n",
        "\n",
        "# df_xlsx = pd.read_excel('pokemon_data.xlsx')\n",
        "# print(df_xlsx.head(3))\n",
        "\n",
        "# df = pd.read_csv('pokemon_data.txt', delimiter='\\t')\n",
        "\n",
        "# print(df.head(5))\n",
        "\n",
        "df['HP']"
      ],
      "execution_count": null,
      "outputs": []
    },
    {
      "cell_type": "markdown",
      "metadata": {
        "id": "BpWRr3sRI3Ze"
      },
      "source": [
        "## Reading Data in Pandas"
      ]
    },
    {
      "cell_type": "code",
      "metadata": {
        "id": "rQiE5freI3Zf"
      },
      "source": [
        "#### Read Headers\n",
        "df.columns\n",
        "\n",
        "## Read each Column\n",
        "#print(df[['Name', 'Type 1', 'HP']])\n",
        "\n",
        "## Read Each Row\n",
        "#print(df.iloc[0:4])\n",
        "# for index, row in df.iterrows():\n",
        "#     print(index, row['Name'])\n",
        "#df.loc[df['Type 1'] == \"Grass\"]\n",
        "\n",
        "## Read a specific location (R,C)\n",
        "#print(df.iloc[2,1])\n"
      ],
      "execution_count": null,
      "outputs": []
    },
    {
      "cell_type": "markdown",
      "metadata": {
        "id": "SOhBhAB9I3Zf"
      },
      "source": [
        "## Sorting/Describing Data"
      ]
    },
    {
      "cell_type": "code",
      "metadata": {
        "id": "1tRqQn8TI3Zg"
      },
      "source": [
        "df.sort_values(['Type 1', 'HP'], ascending=[1,0])\n",
        "\n",
        "df"
      ],
      "execution_count": null,
      "outputs": []
    },
    {
      "cell_type": "markdown",
      "metadata": {
        "id": "KDXrXsVCI3Zg"
      },
      "source": [
        "## Making changes to the data"
      ]
    },
    {
      "cell_type": "code",
      "metadata": {
        "id": "ttBdic6tI3Zh"
      },
      "source": [
        "#df['Total'] = df['HP'] + df['Attack'] + df['Defense'] + df['Sp. Atk'] + df['Sp. Def'] + df['Speed']\n",
        "\n",
        "# df = df.drop(columns=['Total'])\n",
        "\n",
        "df['Total'] = df.iloc[:, 4:10].sum(axis=1)\n",
        "\n",
        "cols = list(df.columns)\n",
        "df = df[cols[0:4] + [cols[-1]]+cols[4:12]]\n",
        "\n",
        "df.head(5)"
      ],
      "execution_count": null,
      "outputs": []
    },
    {
      "cell_type": "code",
      "metadata": {
        "id": "YAHUwgHfI3Zi"
      },
      "source": [
        "45+49+49+65+65+45"
      ],
      "execution_count": null,
      "outputs": []
    },
    {
      "cell_type": "markdown",
      "metadata": {
        "id": "m_NIN98aI3Zj"
      },
      "source": [
        "## Saving our Data (Exporting into Desired Format)"
      ]
    },
    {
      "cell_type": "code",
      "metadata": {
        "id": "M9M2cP-MI3Zj"
      },
      "source": [
        "# df.to_csv('modified.csv', index=False)\n",
        "\n",
        "#df.to_excel('modified.xlsx', index=False)\n",
        "\n",
        "df.to_csv('modified.txt', index=False, sep='\\t')\n",
        "\n",
        "\n"
      ],
      "execution_count": null,
      "outputs": []
    },
    {
      "cell_type": "markdown",
      "metadata": {
        "id": "Yixt8md8I3Zj"
      },
      "source": [
        "## Filtering Data"
      ]
    },
    {
      "cell_type": "code",
      "metadata": {
        "id": "xgrWV6t1I3Zk"
      },
      "source": [
        "new_df = df.loc[(df['Type 1'] == 'Grass') & (df['Type 2'] == 'Poison') & (df['HP'] > 70)]\n",
        "\n",
        "new_df.reset_index(drop=True, inplace=True)\n",
        "\n",
        "new_df\n",
        "\n",
        "new_df.to_csv('filtered.csv')\n"
      ],
      "execution_count": null,
      "outputs": []
    },
    {
      "cell_type": "markdown",
      "metadata": {
        "id": "ZZiLNJM3I3Zk"
      },
      "source": [
        "\n",
        "## Conditional Changes"
      ]
    },
    {
      "cell_type": "code",
      "metadata": {
        "id": "vmGQQrXII3Zk"
      },
      "source": [
        "\n",
        "\n",
        "# df.loc[df['Total'] > 500, ['Generation','Legendary']] = ['Test 1', 'Test 2']\n",
        "\n",
        "# df\n",
        "\n",
        "df = pd.read_csv('modified.csv')\n",
        "\n",
        "df"
      ],
      "execution_count": null,
      "outputs": []
    },
    {
      "cell_type": "markdown",
      "metadata": {
        "id": "0vk8WtR0I3Zl"
      },
      "source": [
        "## Aggregate Statistics (Groupby)\n"
      ]
    },
    {
      "cell_type": "code",
      "metadata": {
        "id": "z-axzayAI3Zl"
      },
      "source": [
        "df = pd.read_csv('modified.csv')\n",
        "\n",
        "df['count'] = 1\n",
        "\n",
        "df.groupby(['Type 1', 'Type 2']).count()['count']\n",
        "\n",
        "\n",
        "\n",
        "\n"
      ],
      "execution_count": null,
      "outputs": []
    },
    {
      "cell_type": "markdown",
      "metadata": {
        "id": "H1K1m82-I3Zl"
      },
      "source": [
        "## Working with large amounts of data\n",
        "\n"
      ]
    },
    {
      "cell_type": "code",
      "metadata": {
        "id": "XA4TF2-MI3Zm"
      },
      "source": [
        "new_df = pd.DataFrame(columns=df.columns)\n",
        "\n",
        "for df in pd.read_csv('modified.csv', chunksize=5):\n",
        "    results = df.groupby(['Type 1']).count()\n",
        "    \n",
        "    new_df = pd.concat([new_df, results])\n",
        "    \n",
        "\n",
        "    \n",
        "\n",
        "\n",
        "\n"
      ],
      "execution_count": null,
      "outputs": []
    },
    {
      "cell_type": "code",
      "metadata": {
        "id": "Cga--OHcI3Zm"
      },
      "source": [
        "\n",
        "\n",
        "\n"
      ],
      "execution_count": null,
      "outputs": []
    },
    {
      "cell_type": "code",
      "metadata": {
        "id": "wFvhwq7NI3Zm"
      },
      "source": [
        ""
      ],
      "execution_count": null,
      "outputs": []
    }
  ]
}